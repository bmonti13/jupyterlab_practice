{
 "cells": [
  {
   "cell_type": "markdown",
   "id": "f4003bf8-381d-41c4-987f-f8dfffa6ef88",
   "metadata": {},
   "source": [
    "We are currently working in the following directory:"
   ]
  },
  {
   "cell_type": "code",
   "execution_count": 1,
   "id": "76c5ed84-1c74-4d09-aacd-05c461866580",
   "metadata": {},
   "outputs": [
    {
     "name": "stdout",
     "output_type": "stream",
     "text": [
      "/c/Users/breia/jupyterlab_practice\n"
     ]
    }
   ],
   "source": [
    "# Shell command for displaying current working directory with special syntax that allows us to access shell commands in Jupyter lab cells.\n",
    "!pwd"
   ]
  },
  {
   "cell_type": "markdown",
   "id": "9f3b7f26-4fbd-4a85-8e4b-3e12aee62597",
   "metadata": {},
   "source": [
    "To time how long it takes to run a Python cell, we could use the timeit command inside a cell as is show below:\n",
    "\n",
    "```\n",
    "%%timeit\n",
    "```\n",
    "\n",
    "Followed by the proper use of the timeit command to time the following loop:\n",
    "\n",
    "```python\n",
    "    for i in range(1_000_000):\n",
    "        i**2\n",
    "```\n",
    "\n"
   ]
  },
  {
   "cell_type": "code",
   "execution_count": 2,
   "id": "cfc2c1bd-e61e-4ea3-bb3a-6539dc787bc0",
   "metadata": {},
   "outputs": [
    {
     "name": "stderr",
     "output_type": "stream",
     "text": [
      "[NbConvertApp] Converting notebook question12.ipynb to html\n",
      "[NbConvertApp] Writing 280203 bytes to output-filename.html\n"
     ]
    }
   ],
   "source": [
    "# Command to export the notebook to HTML without including any of the input code cells\n",
    "\n",
    "!jupyter nbconvert question12.ipynb \\\n",
    "    --to html \\\n",
    "    --output=output-filename.html \\\n",
    "    --no-input\n"
   ]
  }
 ],
 "metadata": {
  "kernelspec": {
   "display_name": "Python [conda env:practice_env]",
   "language": "python",
   "name": "conda-env-practice_env-py"
  },
  "language_info": {
   "codemirror_mode": {
    "name": "ipython",
    "version": 3
   },
   "file_extension": ".py",
   "mimetype": "text/x-python",
   "name": "python",
   "nbconvert_exporter": "python",
   "pygments_lexer": "ipython3",
   "version": "3.12.3"
  }
 },
 "nbformat": 4,
 "nbformat_minor": 5
}
