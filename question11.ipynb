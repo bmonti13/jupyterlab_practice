{
 "cells": [
  {
   "cell_type": "markdown",
   "id": "5a46e86b-657f-4099-88f7-9be308f9a6f3",
   "metadata": {},
   "source": [
    "# Breia Monti\n",
    "Notebook for assignment 7"
   ]
  },
  {
   "cell_type": "code",
   "execution_count": 1,
   "id": "43209004-a2ac-434f-82cc-b805397e9416",
   "metadata": {},
   "outputs": [
    {
     "data": {
      "text/plain": [
       "5.0"
      ]
     },
     "execution_count": 1,
     "metadata": {},
     "output_type": "execute_result"
    }
   ],
   "source": [
    "def compute_mean(lst):\n",
    "    if not list:\n",
    "        return None\n",
    "        \n",
    "    total = sum(lst)\n",
    "    mean = total /len(lst)\n",
    "    return mean\n",
    "\n",
    "compute_mean([2,4,6,8])"
   ]
  },
  {
   "cell_type": "markdown",
   "id": "e3496c7d-290b-4781-b552-7919429dccdb",
   "metadata": {},
   "source": [
    "The above code takes a list ('lst') as the input, calculates the sum of all values in the list using 'sum()', and then divides it by the length of the list to compute the mean. If the list is empty, it returns 'None'.\n",
    "\n",
    "$\\bar{x} =\\frac{x_1 + x_2 ... + x_n}{n}$\n",
    "$= \\frac{1}{n} \\Bigg( \\displaystyle\\sum_{i=1}^n x_i \\Bigg ) $\n",
    "\n",
    "$ mean = \\frac{\\displaystyle\\sum x_i}{n} $\n",
    "\n",
    "\n"
   ]
  }
 ],
 "metadata": {
  "kernelspec": {
   "display_name": "Python [conda env:practice_env]",
   "language": "python",
   "name": "conda-env-practice_env-py"
  },
  "language_info": {
   "codemirror_mode": {
    "name": "ipython",
    "version": 3
   },
   "file_extension": ".py",
   "mimetype": "text/x-python",
   "name": "python",
   "nbconvert_exporter": "python",
   "pygments_lexer": "ipython3",
   "version": "3.12.3"
  }
 },
 "nbformat": 4,
 "nbformat_minor": 5
}
